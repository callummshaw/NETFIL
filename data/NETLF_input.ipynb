{
 "cells": [
  {
   "cell_type": "markdown",
   "id": "64a6aa11-b3df-4991-8985-3f6b1660eb35",
   "metadata": {},
   "source": [
    "# Generate Random NETLF Network"
   ]
  },
  {
   "cell_type": "code",
   "execution_count": 4,
   "id": "99410cee-5b40-457c-bb07-17ba4057fe8b",
   "metadata": {},
   "outputs": [],
   "source": [
    "import numpy as np\n",
    "import pandas as pd\n",
    "import random as rn\n",
    "import string\n",
    "import matplotlib.pyplot as plt\n"
   ]
  },
  {
   "cell_type": "code",
   "execution_count": 3,
   "id": "0fb7715a-3573-49a5-8a8e-7e6a0b81cf63",
   "metadata": {},
   "outputs": [],
   "source": [
    "N_groups = 10\n"
   ]
  },
  {
   "cell_type": "markdown",
   "id": "8256e8bb-cd43-4820-923c-fec0f9910075",
   "metadata": {},
   "source": [
    "## Locations and Populations"
   ]
  },
  {
   "cell_type": "code",
   "execution_count": 18,
   "id": "d396af89-bee1-49a3-a470-d638b3657f00",
   "metadata": {},
   "outputs": [],
   "source": [
    "X = rn.sample(range(0, 1000), N_groups) \n",
    "Y = rn.sample(range(0, 1000), N_groups)\n",
    "names = list(string.ascii_lowercase)[:N_groups]\n",
    "pops = rn.sample(range(100, 1000), N_groups)"
   ]
  },
  {
   "cell_type": "code",
   "execution_count": 19,
   "id": "c74f48cc-d6d1-4890-916f-49dddb339831",
   "metadata": {},
   "outputs": [],
   "source": [
    "data_nam = {\"Group\":names}\n",
    "data_loc = {\"Group\":names, \"X\":X,\"Y\":Y}\n",
    "data_pop = {\"Group\":names, \"Population\":pops}"
   ]
  },
  {
   "cell_type": "code",
   "execution_count": 20,
   "id": "cccb226d-2b7a-4c42-98e6-bac0c98cb70f",
   "metadata": {},
   "outputs": [],
   "source": [
    "frame_nam = pd.DataFrame(data_nam) \n",
    "frame_loc = pd.DataFrame(data_loc) \n",
    "frame_pop = pd.DataFrame(data_pop) "
   ]
  },
  {
   "cell_type": "code",
   "execution_count": 21,
   "id": "00576d96-7cc3-41c8-a483-bcf7211ff1b5",
   "metadata": {},
   "outputs": [],
   "source": [
    "frame_nam.to_csv(\"group_names.csv\",index=False)\n",
    "frame_loc.to_csv(\"group_locations.csv\",index=False)\n",
    "frame_pop.to_csv(\"group_populations.csv\",index=False)"
   ]
  },
  {
   "cell_type": "code",
   "execution_count": 6,
   "id": "c1272766-10ea-4f3d-ba64-cf20db6b5312",
   "metadata": {},
   "outputs": [],
   "source": [
    "np.set_printoptions(suppress=True)\n",
    "dist_direct = np.zeros((N_groups,N_groups))\n",
    "dist_car = np.zeros((N_groups,N_groups))"
   ]
  },
  {
   "cell_type": "code",
   "execution_count": 8,
   "id": "8e0d8223-c28f-4468-81d5-93d1fa6b97d1",
   "metadata": {},
   "outputs": [],
   "source": [
    "for i in np.arange(N_groups):\n",
    "    for j in np.arange(N_groups):\n",
    "        dist_direct[i,j] = round(np.linalg.norm(np.array((X[i],Y[i]))-np.array((X[j],Y[j]))))\n",
    "        dist_car[i,j] = round(np.abs(X[i]-X[j])+np.abs(Y[i]-Y[j]))\n",
    "            "
   ]
  },
  {
   "cell_type": "code",
   "execution_count": 9,
   "id": "01715db3-880c-481f-af67-6b72ac0f820a",
   "metadata": {},
   "outputs": [],
   "source": [
    "distance_cars = pd.DataFrame(dist_car, columns=names, index=names)\n",
    "distance_direct = pd.DataFrame(dist_direct, columns=names, index=names)"
   ]
  },
  {
   "cell_type": "code",
   "execution_count": 10,
   "id": "ff59d58b-44d7-43db-99b1-959b9ddb4573",
   "metadata": {},
   "outputs": [],
   "source": [
    "distance_cars.to_csv(\"road_dist.csv\")\n",
    "distance_direct.to_csv(\"euc_dist.csv\")"
   ]
  },
  {
   "cell_type": "code",
   "execution_count": null,
   "id": "ee5d99bd-49bd-4d34-929b-1db146ce9081",
   "metadata": {},
   "outputs": [],
   "source": []
  },
  {
   "cell_type": "markdown",
   "id": "eb0c8707-81bb-470b-9743-a067404899ed",
   "metadata": {},
   "source": [
    "## Births and Deaths\n",
    "\n",
    "For simplicity I assume that the population tree declines linearly with age. Therefore the proportion of the population in each age bracket can be modelled by a simple line- $y=mx+b$, where $x$ is the proportional size of each age bracket and $y$ is the bracket number (assuming $n$ brackets). As $x$ is a proportion we know:\n",
    "\n",
    "$\\sum_{i=1}^n x_i = 100$\n",
    "\n",
    "We can then substitute $x$ and get: \n",
    "\n",
    "$\\frac{\\sum_{i=1}^ni - nb}{m} = 100$.\n",
    "\n",
    "We can get:\n",
    "\n",
    "$m= \\frac{\\sum_{i=1}^ni-n^2}{100-n x_n}$,\n",
    "\n",
    "and \n",
    "\n",
    "$b = \\frac{x_n\\sum_{i=1}^ni -100n}{nx_n-100}$.\n",
    "\n",
    "Then if we know the number of brackets and a single value for a bracket we can solve for all brackets. For example $n=16$ and $x_{16} =1$. Then $y=-1.423x+17.43$."
   ]
  },
  {
   "cell_type": "code",
   "execution_count": 2,
   "id": "b9ba78c7-d1ae-4b27-9db7-e871f20dba7e",
   "metadata": {},
   "outputs": [],
   "source": [
    "N_age_brackets = 16 #number of age brackets\n",
    "W_brackets = 5 #width of age brackets (years)"
   ]
  },
  {
   "cell_type": "code",
   "execution_count": 11,
   "id": "722d4574-cf75-4e3a-8061-a24691f96b6c",
   "metadata": {},
   "outputs": [],
   "source": [
    "xn = 1 #assuming 1% in 75+ pop\n",
    "b = (xn*np.sum(np.arange(1,N_age_brackets+1))-100*N_age_brackets)/(xn*N_age_brackets-100)\n",
    "m = (np.sum(np.arange(1,N_age_brackets+1))-N_age_brackets**2)/(100-N_age_brackets*xn)"
   ]
  },
  {
   "cell_type": "code",
   "execution_count": 15,
   "id": "bbe469e9-4cb9-433e-9bf5-2cef3ec8e787",
   "metadata": {},
   "outputs": [],
   "source": [
    "prop = (np.arange(1,N_age_brackets+1)-b)/m/100"
   ]
  },
  {
   "cell_type": "code",
   "execution_count": 27,
   "id": "88fa546f-351a-49c4-8b7d-9220efb49cb6",
   "metadata": {},
   "outputs": [],
   "source": [
    "μd = np.zeros(16)\n",
    "\n",
    "for i in np.arange(16):\n",
    "    \n",
    "    if i == 15:\n",
    "        μd[i] = 1.7/(W_brackets*365)\n",
    "    else:\n",
    "        μd[i] = (0.7/(365*W_brackets*prop[i]*100))\n"
   ]
  },
  {
   "cell_type": "code",
   "execution_count": 34,
   "id": "3e78e4c8-203d-4769-a941-2abe6fb29fe0",
   "metadata": {},
   "outputs": [],
   "source": [
    "μb = np.zeros(16)\n",
    "α = (12.21/(5*365))/41.7\n",
    "μb[4:10]= α"
   ]
  },
  {
   "cell_type": "code",
   "execution_count": 35,
   "id": "287125e3-47c9-4325-ae80-13726cc1e5dd",
   "metadata": {},
   "outputs": [
    {
     "data": {
      "text/plain": [
       "0.00016044150980585394"
      ]
     },
     "execution_count": 35,
     "metadata": {},
     "output_type": "execute_result"
    }
   ],
   "source": [
    "α"
   ]
  },
  {
   "cell_type": "code",
   "execution_count": 36,
   "id": "81ad96da-c1f3-4e8f-b6a2-3da550f6787e",
   "metadata": {},
   "outputs": [],
   "source": [
    "birth = {\"Daily Rate\":μb}\n",
    "birth_frame = pd.DataFrame(birth)\n",
    "\n",
    "death = {\"Daily Rate\":μd}\n",
    "death_frame = pd.DataFrame(death)\n",
    "\n",
    "age = {\"Age Dist\":prop}\n",
    "age_frame = pd.DataFrame(age)\n",
    "\n",
    "\n",
    "birth_frame.to_csv(\"birth_rates.csv\",index=False)\n",
    "death_frame.to_csv(\"mortality_rates.csv\",index=False)\n",
    "age_frame.to_csv(\"pop_age_dist.csv\",index=False)"
   ]
  },
  {
   "cell_type": "code",
   "execution_count": null,
   "id": "d9d238a8-c084-4a33-87c9-1b0f129c3d19",
   "metadata": {},
   "outputs": [],
   "source": []
  }
 ],
 "metadata": {
  "kernelspec": {
   "display_name": "Python 3 (ipykernel)",
   "language": "python",
   "name": "python3"
  },
  "language_info": {
   "codemirror_mode": {
    "name": "ipython",
    "version": 3
   },
   "file_extension": ".py",
   "mimetype": "text/x-python",
   "name": "python",
   "nbconvert_exporter": "python",
   "pygments_lexer": "ipython3",
   "version": "3.10.12"
  }
 },
 "nbformat": 4,
 "nbformat_minor": 5
}
