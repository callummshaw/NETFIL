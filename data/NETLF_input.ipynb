{
 "cells": [
  {
   "cell_type": "markdown",
   "id": "64a6aa11-b3df-4991-8985-3f6b1660eb35",
   "metadata": {},
   "source": [
    "# Generate Random NETLF Network"
   ]
  },
  {
   "cell_type": "code",
   "execution_count": 1,
   "id": "99410cee-5b40-457c-bb07-17ba4057fe8b",
   "metadata": {},
   "outputs": [],
   "source": [
    "import numpy as np\n",
    "import pandas as pd\n",
    "import random as rn\n",
    "import string\n",
    "import matplotlib.pyplot as plt\n"
   ]
  },
  {
   "cell_type": "code",
   "execution_count": 2,
   "id": "0fb7715a-3573-49a5-8a8e-7e6a0b81cf63",
   "metadata": {},
   "outputs": [],
   "source": [
    "N_groups = 9\n"
   ]
  },
  {
   "cell_type": "markdown",
   "id": "8256e8bb-cd43-4820-923c-fec0f9910075",
   "metadata": {},
   "source": [
    "## Custom Locations and Populations"
   ]
  },
  {
   "cell_type": "code",
   "execution_count": 14,
   "id": "ffe081e5-2f1b-4940-b61a-e242667a7f55",
   "metadata": {},
   "outputs": [],
   "source": [
    "x = np.array([0,500,1000])\n",
    "y = np.array([0,500,1000])\n",
    "\n",
    "xX,yY = np.meshgrid(x,y)"
   ]
  },
  {
   "cell_type": "code",
   "execution_count": 15,
   "id": "0aff0d3f-fe00-46f1-a9a7-0f73af87123b",
   "metadata": {},
   "outputs": [],
   "source": [
    "X = xX.flatten()\n",
    "Y = yY.flatten()"
   ]
  },
  {
   "cell_type": "code",
   "execution_count": 13,
   "id": "c8edee11-8d30-402b-9300-67ab2159a975",
   "metadata": {},
   "outputs": [
    {
     "data": {
      "text/plain": [
       "array([[   0,  500, 1000],\n",
       "       [   0,  500, 1000],\n",
       "       [   0,  500, 1000]])"
      ]
     },
     "execution_count": 13,
     "metadata": {},
     "output_type": "execute_result"
    }
   ],
   "source": [
    "X"
   ]
  },
  {
   "cell_type": "code",
   "execution_count": 18,
   "id": "d396af89-bee1-49a3-a470-d638b3657f00",
   "metadata": {},
   "outputs": [],
   "source": [
    "#X = rn.sample(range(0, 1000), N_groups) \n",
    "Y = rn.sample(range(0, 1000), N_groups)\n",
    "names = list(string.ascii_lowercase)[:N_groups]\n",
    "pops = rn.sample(range(100, 1000), N_groups)"
   ]
  },
  {
   "cell_type": "code",
   "execution_count": 20,
   "id": "b72e0bce-44f2-47f2-8f26-1398d544934f",
   "metadata": {},
   "outputs": [],
   "source": [
    "pops = np.zeros(N_groups)+5000"
   ]
  },
  {
   "cell_type": "code",
   "execution_count": 22,
   "id": "c74f48cc-d6d1-4890-916f-49dddb339831",
   "metadata": {},
   "outputs": [],
   "source": [
    "data_nam = {\"Group\":names}\n",
    "data_loc = {\"Group\":names, \"X\":X,\"Y\":Y}\n",
    "data_pop = {\"Group\":names, \"Population\":pops}"
   ]
  },
  {
   "cell_type": "code",
   "execution_count": 23,
   "id": "cccb226d-2b7a-4c42-98e6-bac0c98cb70f",
   "metadata": {},
   "outputs": [],
   "source": [
    "frame_nam = pd.DataFrame(data_nam) \n",
    "frame_loc = pd.DataFrame(data_loc) \n",
    "frame_pop = pd.DataFrame(data_pop) "
   ]
  },
  {
   "cell_type": "code",
   "execution_count": 24,
   "id": "00576d96-7cc3-41c8-a483-bcf7211ff1b5",
   "metadata": {},
   "outputs": [],
   "source": [
    "frame_nam.to_csv(\"group_names.csv\",index=False)\n",
    "frame_loc.to_csv(\"group_locations.csv\",index=False)\n",
    "frame_pop.to_csv(\"group_populations.csv\",index=False)"
   ]
  },
  {
   "cell_type": "code",
   "execution_count": 25,
   "id": "c1272766-10ea-4f3d-ba64-cf20db6b5312",
   "metadata": {},
   "outputs": [],
   "source": [
    "np.set_printoptions(suppress=True)\n",
    "dist_direct = np.zeros((N_groups,N_groups))\n",
    "dist_car = np.zeros((N_groups,N_groups))"
   ]
  },
  {
   "cell_type": "code",
   "execution_count": 26,
   "id": "8e0d8223-c28f-4468-81d5-93d1fa6b97d1",
   "metadata": {},
   "outputs": [],
   "source": [
    "for i in np.arange(N_groups):\n",
    "    for j in np.arange(N_groups):\n",
    "        dist_direct[i,j] = round(np.linalg.norm(np.array((X[i],Y[i]))-np.array((X[j],Y[j]))))\n",
    "        dist_car[i,j] = round(np.abs(X[i]-X[j])+np.abs(Y[i]-Y[j]))\n",
    "            "
   ]
  },
  {
   "cell_type": "code",
   "execution_count": 27,
   "id": "01715db3-880c-481f-af67-6b72ac0f820a",
   "metadata": {},
   "outputs": [],
   "source": [
    "distance_cars = pd.DataFrame(dist_car, columns=names, index=names)\n",
    "distance_direct = pd.DataFrame(dist_direct, columns=names, index=names)"
   ]
  },
  {
   "cell_type": "code",
   "execution_count": 29,
   "id": "ff59d58b-44d7-43db-99b1-959b9ddb4573",
   "metadata": {},
   "outputs": [],
   "source": [
    "distance_cars.to_csv(\"road_dist.csv\")\n",
    "distance_direct.to_csv(\"euc_dist.csv\")"
   ]
  },
  {
   "cell_type": "code",
   "execution_count": 28,
   "id": "ee5d99bd-49bd-4d34-929b-1db146ce9081",
   "metadata": {},
   "outputs": [
    {
     "data": {
      "text/html": [
       "<div>\n",
       "<style scoped>\n",
       "    .dataframe tbody tr th:only-of-type {\n",
       "        vertical-align: middle;\n",
       "    }\n",
       "\n",
       "    .dataframe tbody tr th {\n",
       "        vertical-align: top;\n",
       "    }\n",
       "\n",
       "    .dataframe thead th {\n",
       "        text-align: right;\n",
       "    }\n",
       "</style>\n",
       "<table border=\"1\" class=\"dataframe\">\n",
       "  <thead>\n",
       "    <tr style=\"text-align: right;\">\n",
       "      <th></th>\n",
       "      <th>a</th>\n",
       "      <th>b</th>\n",
       "      <th>c</th>\n",
       "      <th>d</th>\n",
       "      <th>e</th>\n",
       "      <th>f</th>\n",
       "      <th>g</th>\n",
       "      <th>h</th>\n",
       "      <th>i</th>\n",
       "    </tr>\n",
       "  </thead>\n",
       "  <tbody>\n",
       "    <tr>\n",
       "      <th>a</th>\n",
       "      <td>0.0</td>\n",
       "      <td>513.0</td>\n",
       "      <td>1625.0</td>\n",
       "      <td>279.0</td>\n",
       "      <td>1090.0</td>\n",
       "      <td>1149.0</td>\n",
       "      <td>225.0</td>\n",
       "      <td>1058.0</td>\n",
       "      <td>1753.0</td>\n",
       "    </tr>\n",
       "    <tr>\n",
       "      <th>b</th>\n",
       "      <td>513.0</td>\n",
       "      <td>0.0</td>\n",
       "      <td>1112.0</td>\n",
       "      <td>766.0</td>\n",
       "      <td>577.0</td>\n",
       "      <td>662.0</td>\n",
       "      <td>712.0</td>\n",
       "      <td>545.0</td>\n",
       "      <td>1240.0</td>\n",
       "    </tr>\n",
       "    <tr>\n",
       "      <th>c</th>\n",
       "      <td>1625.0</td>\n",
       "      <td>1112.0</td>\n",
       "      <td>0.0</td>\n",
       "      <td>1346.0</td>\n",
       "      <td>535.0</td>\n",
       "      <td>774.0</td>\n",
       "      <td>1400.0</td>\n",
       "      <td>567.0</td>\n",
       "      <td>128.0</td>\n",
       "    </tr>\n",
       "    <tr>\n",
       "      <th>d</th>\n",
       "      <td>279.0</td>\n",
       "      <td>766.0</td>\n",
       "      <td>1346.0</td>\n",
       "      <td>0.0</td>\n",
       "      <td>811.0</td>\n",
       "      <td>1428.0</td>\n",
       "      <td>54.0</td>\n",
       "      <td>779.0</td>\n",
       "      <td>1474.0</td>\n",
       "    </tr>\n",
       "    <tr>\n",
       "      <th>e</th>\n",
       "      <td>1090.0</td>\n",
       "      <td>577.0</td>\n",
       "      <td>535.0</td>\n",
       "      <td>811.0</td>\n",
       "      <td>0.0</td>\n",
       "      <td>1239.0</td>\n",
       "      <td>865.0</td>\n",
       "      <td>32.0</td>\n",
       "      <td>663.0</td>\n",
       "    </tr>\n",
       "    <tr>\n",
       "      <th>f</th>\n",
       "      <td>1149.0</td>\n",
       "      <td>662.0</td>\n",
       "      <td>774.0</td>\n",
       "      <td>1428.0</td>\n",
       "      <td>1239.0</td>\n",
       "      <td>0.0</td>\n",
       "      <td>1374.0</td>\n",
       "      <td>1207.0</td>\n",
       "      <td>902.0</td>\n",
       "    </tr>\n",
       "    <tr>\n",
       "      <th>g</th>\n",
       "      <td>225.0</td>\n",
       "      <td>712.0</td>\n",
       "      <td>1400.0</td>\n",
       "      <td>54.0</td>\n",
       "      <td>865.0</td>\n",
       "      <td>1374.0</td>\n",
       "      <td>0.0</td>\n",
       "      <td>833.0</td>\n",
       "      <td>1528.0</td>\n",
       "    </tr>\n",
       "    <tr>\n",
       "      <th>h</th>\n",
       "      <td>1058.0</td>\n",
       "      <td>545.0</td>\n",
       "      <td>567.0</td>\n",
       "      <td>779.0</td>\n",
       "      <td>32.0</td>\n",
       "      <td>1207.0</td>\n",
       "      <td>833.0</td>\n",
       "      <td>0.0</td>\n",
       "      <td>695.0</td>\n",
       "    </tr>\n",
       "    <tr>\n",
       "      <th>i</th>\n",
       "      <td>1753.0</td>\n",
       "      <td>1240.0</td>\n",
       "      <td>128.0</td>\n",
       "      <td>1474.0</td>\n",
       "      <td>663.0</td>\n",
       "      <td>902.0</td>\n",
       "      <td>1528.0</td>\n",
       "      <td>695.0</td>\n",
       "      <td>0.0</td>\n",
       "    </tr>\n",
       "  </tbody>\n",
       "</table>\n",
       "</div>"
      ],
      "text/plain": [
       "        a       b       c       d       e       f       g       h       i\n",
       "a     0.0   513.0  1625.0   279.0  1090.0  1149.0   225.0  1058.0  1753.0\n",
       "b   513.0     0.0  1112.0   766.0   577.0   662.0   712.0   545.0  1240.0\n",
       "c  1625.0  1112.0     0.0  1346.0   535.0   774.0  1400.0   567.0   128.0\n",
       "d   279.0   766.0  1346.0     0.0   811.0  1428.0    54.0   779.0  1474.0\n",
       "e  1090.0   577.0   535.0   811.0     0.0  1239.0   865.0    32.0   663.0\n",
       "f  1149.0   662.0   774.0  1428.0  1239.0     0.0  1374.0  1207.0   902.0\n",
       "g   225.0   712.0  1400.0    54.0   865.0  1374.0     0.0   833.0  1528.0\n",
       "h  1058.0   545.0   567.0   779.0    32.0  1207.0   833.0     0.0   695.0\n",
       "i  1753.0  1240.0   128.0  1474.0   663.0   902.0  1528.0   695.0     0.0"
      ]
     },
     "execution_count": 28,
     "metadata": {},
     "output_type": "execute_result"
    }
   ],
   "source": [
    "distance_cars"
   ]
  },
  {
   "cell_type": "markdown",
   "id": "4d728a30-b2ef-4a69-a4d7-660d6d4f4af5",
   "metadata": {},
   "source": [
    "## CSV Locations and Populations"
   ]
  },
  {
   "cell_type": "code",
   "execution_count": 2,
   "id": "265dd4a9-a1a5-4387-b1a1-0b7a9d8a3904",
   "metadata": {},
   "outputs": [],
   "source": [
    "vil = pd.read_csv(\"../data/villages_lat_lon.csv\", delimiter=',') #village locations\n",
    "vil_pops = np.genfromtxt(\"../data/village_pop_gender.dat\", delimiter=',',skip_header=1) #village populations\n",
    "pops = np.sum(vil_pops[:,1:],axis = 1)"
   ]
  },
  {
   "cell_type": "code",
   "execution_count": 3,
   "id": "913f50f2-efce-4cc9-ac63-a9330dbb2f39",
   "metadata": {},
   "outputs": [
    {
     "data": {
      "text/plain": [
       "54359.0"
      ]
     },
     "execution_count": 3,
     "metadata": {},
     "output_type": "execute_result"
    }
   ],
   "source": [
    "sum(pops)"
   ]
  },
  {
   "cell_type": "code",
   "execution_count": 4,
   "id": "706f4114-e021-46de-a5c5-f266f5cd6d0b",
   "metadata": {},
   "outputs": [],
   "source": [
    "N_groups = len(pops)"
   ]
  },
  {
   "cell_type": "code",
   "execution_count": 5,
   "id": "33448651-0ff2-4ff3-ac82-8b72b613bbe1",
   "metadata": {},
   "outputs": [],
   "source": [
    "names = vil[\"VILLAGE\"].values"
   ]
  },
  {
   "cell_type": "code",
   "execution_count": 6,
   "id": "e8132102-d16b-40ef-aaff-1a72ef09535f",
   "metadata": {},
   "outputs": [],
   "source": [
    "X = vil[\"X_Centroid\"].values - np.min(vil[\"X_Centroid\"].values)\n",
    "Y = vil[\"Y_Centroid\"].values - np.min(vil[\"Y_Centroid\"].values)"
   ]
  },
  {
   "cell_type": "code",
   "execution_count": 7,
   "id": "24a5a909-e2ad-4d77-ba6b-67339c6342f2",
   "metadata": {},
   "outputs": [],
   "source": [
    "data_nam = {\"Group\":names}\n",
    "data_loc = {\"Group\":names, \"X\":X,\"Y\":Y}\n",
    "data_pop = {\"Group\":names, \"Population\":pops}"
   ]
  },
  {
   "cell_type": "code",
   "execution_count": 8,
   "id": "5e330f83-9d07-4cf7-ae7a-106e60a6bc44",
   "metadata": {},
   "outputs": [],
   "source": [
    "frame_nam = pd.DataFrame(data_nam) \n",
    "frame_loc = pd.DataFrame(data_loc) \n",
    "frame_pop = pd.DataFrame(data_pop) \n",
    "\n",
    "frame_nam.to_csv(\"group_names.csv\",index=False)\n",
    "frame_loc.to_csv(\"group_locations.csv\",index=False)\n",
    "frame_pop.to_csv(\"group_populations.csv\",index=False)"
   ]
  },
  {
   "cell_type": "code",
   "execution_count": 9,
   "id": "56e0d847-eb4d-4684-a3e5-b4565f69ce76",
   "metadata": {},
   "outputs": [],
   "source": [
    "np.set_printoptions(suppress=True)\n",
    "dist_direct = np.zeros((N_groups,N_groups))\n",
    "dist_car = np.zeros((N_groups,N_groups))"
   ]
  },
  {
   "cell_type": "code",
   "execution_count": 10,
   "id": "0e6760a0-6df3-42c6-97f9-11f06a742514",
   "metadata": {},
   "outputs": [],
   "source": [
    "for i in np.arange(N_groups):\n",
    "    for j in np.arange(N_groups):\n",
    "        dist_direct[i,j] = round(np.linalg.norm(np.array((X[i],Y[i]))-np.array((X[j],Y[j]))))\n",
    "        dist_car[i,j] = round(np.abs(X[i]-X[j])+np.abs(Y[i]-Y[j]))\n",
    "            "
   ]
  },
  {
   "cell_type": "code",
   "execution_count": 13,
   "id": "13087953-6101-46d7-b792-0117312fb123",
   "metadata": {},
   "outputs": [
    {
     "data": {
      "text/plain": [
       "array([[    0.,  6932., 16146., ...,  8123.,  7636., 14279.],\n",
       "       [ 6932.,     0., 23078., ...,  6477., 10060., 21211.],\n",
       "       [16146., 23078.,     0., ..., 24269., 20047.,  3299.],\n",
       "       ...,\n",
       "       [ 8123.,  6477., 24269., ...,     0.,  4222., 22402.],\n",
       "       [ 7636., 10060., 20047., ...,  4222.,     0., 18180.],\n",
       "       [14279., 21211.,  3299., ..., 22402., 18180.,     0.]])"
      ]
     },
     "execution_count": 13,
     "metadata": {},
     "output_type": "execute_result"
    }
   ],
   "source": [
    "dist_car"
   ]
  },
  {
   "cell_type": "code",
   "execution_count": 14,
   "id": "cad364ac-0edc-40e2-a166-5fc3e521a169",
   "metadata": {},
   "outputs": [],
   "source": [
    "distance_cars = pd.DataFrame(dist_car, columns=names, index=names)\n",
    "distance_direct = pd.DataFrame(dist_direct, columns=names, index=names)\n",
    "\n",
    "distance_cars.to_csv(\"road_dist.csv\")\n",
    "distance_direct.to_csv(\"euc_dist.csv\")"
   ]
  },
  {
   "cell_type": "markdown",
   "id": "eb0c8707-81bb-470b-9743-a067404899ed",
   "metadata": {},
   "source": [
    "## Births and Deaths\n",
    "\n",
    "For simplicity I assume that the population tree declines linearly with age. Therefore the proportion of the population in each age bracket can be modelled by a simple line- $y=mx+b$, where $x$ is the proportional size of each age bracket and $y$ is the bracket number (assuming $n$ brackets). As $x$ is a proportion we know:\n",
    "\n",
    "$\\sum_{i=1}^n x_i = 100$\n",
    "\n",
    "We can then substitute $x$ and get: \n",
    "\n",
    "$\\frac{\\sum_{i=1}^ni - nb}{m} = 100$.\n",
    "\n",
    "We can get:\n",
    "\n",
    "$m= \\frac{\\sum_{i=1}^ni-n^2}{100-n x_n}$,\n",
    "\n",
    "and \n",
    "\n",
    "$b = \\frac{x_n\\sum_{i=1}^ni -100n}{nx_n-100}$.\n",
    "\n",
    "Then if we know the number of brackets and a single value for a bracket we can solve for all brackets. For example $n=16$ and $x_{16} =1$. Then $y=-1.423x+17.43$."
   ]
  },
  {
   "cell_type": "code",
   "execution_count": 12,
   "id": "b9ba78c7-d1ae-4b27-9db7-e871f20dba7e",
   "metadata": {},
   "outputs": [],
   "source": [
    "N_age_brackets = 16 #number of age brackets\n",
    "W_brackets = 5 #width of age brackets (years)"
   ]
  },
  {
   "cell_type": "code",
   "execution_count": 38,
   "id": "722d4574-cf75-4e3a-8061-a24691f96b6c",
   "metadata": {},
   "outputs": [],
   "source": [
    "xn = 1 #assuming 1% in 75+ pop\n",
    "b = (xn*np.sum(np.arange(1,N_age_brackets+1))-100*N_age_brackets)/(xn*N_age_brackets-100)\n",
    "m = (np.sum(np.arange(1,N_age_brackets+1))-N_age_brackets**2)/(100-N_age_brackets*xn)"
   ]
  },
  {
   "cell_type": "code",
   "execution_count": 39,
   "id": "bbe469e9-4cb9-433e-9bf5-2cef3ec8e787",
   "metadata": {},
   "outputs": [],
   "source": [
    "prop = (np.arange(1,N_age_brackets+1)-b)/m/100"
   ]
  },
  {
   "cell_type": "code",
   "execution_count": 79,
   "id": "c4b7a4f9-a9d0-4a48-8c74-3ab196e20ca2",
   "metadata": {},
   "outputs": [],
   "source": [
    "μd = 1/((np.arange(0,80,5)[::-1]+2.5)*365)\n"
   ]
  },
  {
   "cell_type": "code",
   "execution_count": 88,
   "id": "62510fd3-53f8-496e-950b-5fd65e9f4106",
   "metadata": {},
   "outputs": [],
   "source": [
    "μb = np.zeros(16)\n",
    "μb[3:9] =  0.925*sum(μd*prop)/sum(prop[3:9])"
   ]
  },
  {
   "cell_type": "code",
   "execution_count": 90,
   "id": "81ad96da-c1f3-4e8f-b6a2-3da550f6787e",
   "metadata": {},
   "outputs": [],
   "source": [
    "birth = {\"Daily Rate\":μb}\n",
    "birth_frame = pd.DataFrame(birth)\n",
    "\n",
    "death = {\"Daily Rate\":μd}\n",
    "death_frame = pd.DataFrame(death)\n",
    "\n",
    "age = {\"Age Dist\":prop}\n",
    "age_frame = pd.DataFrame(age)\n",
    "\n",
    "\n",
    "birth_frame.to_csv(\"birth_rates.csv\",index=False)\n",
    "death_frame.to_csv(\"mortality_rates.csv\",index=False)\n",
    "age_frame.to_csv(\"pop_age_dist.csv\",index=False)"
   ]
  },
  {
   "cell_type": "code",
   "execution_count": null,
   "id": "22c7dfd3-3d37-4c2e-904f-1c4c6efbc542",
   "metadata": {},
   "outputs": [],
   "source": []
  }
 ],
 "metadata": {
  "kernelspec": {
   "display_name": "Python 3 (ipykernel)",
   "language": "python",
   "name": "python3"
  },
  "language_info": {
   "codemirror_mode": {
    "name": "ipython",
    "version": 3
   },
   "file_extension": ".py",
   "mimetype": "text/x-python",
   "name": "python",
   "nbconvert_exporter": "python",
   "pygments_lexer": "ipython3",
   "version": "3.10.12"
  }
 },
 "nbformat": 4,
 "nbformat_minor": 5
}
